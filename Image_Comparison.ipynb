{
  "nbformat": 4,
  "nbformat_minor": 0,
  "metadata": {
    "colab": {
      "name": "Image Comparison.ipynb",
      "provenance": [],
      "authorship_tag": "ABX9TyM+PdSdRJFCAVKepyIUSn4Y",
      "include_colab_link": true
    },
    "kernelspec": {
      "name": "python3",
      "display_name": "Python 3"
    },
    "language_info": {
      "name": "python"
    }
  },
  "cells": [
    {
      "cell_type": "markdown",
      "metadata": {
        "id": "view-in-github",
        "colab_type": "text"
      },
      "source": [
        "<a href=\"https://colab.research.google.com/github/naveenkumarsorout/Training-Project/blob/main/Image_Comparison.ipynb\" target=\"_parent\"><img src=\"https://colab.research.google.com/assets/colab-badge.svg\" alt=\"Open In Colab\"/></a>"
      ]
    },
    {
      "cell_type": "markdown",
      "metadata": {
        "id": "wn4TCCBofZBd"
      },
      "source": [
        "**Image Comparison Methods**\n",
        "1.Pillow Method\n",
        "2.OpenCv Method\n"
      ]
    },
    {
      "cell_type": "markdown",
      "metadata": {
        "id": "GiG7qa9oaNch"
      },
      "source": [
        "**First Method For Image Comparison**\n"
      ]
    },
    {
      "cell_type": "code",
      "metadata": {
        "id": "5KkJiYTuamoD"
      },
      "source": [
        "# import module\n",
        "from PIL import Image, ImageChops\n",
        "  \n",
        "# assign images\n",
        "img1 = Image.open(r\"/content/1img.jpg\")\n",
        "img2 = Image.open(r\"/content/2img.jpg\")\n",
        "  \n",
        "# finding difference\n",
        "diff = ImageChops.difference(img1, img2)\n",
        "  \n",
        "# showing the difference\n",
        "diff.show()"
      ],
      "execution_count": null,
      "outputs": []
    },
    {
      "cell_type": "markdown",
      "metadata": {
        "id": "c43r2k_SZxsG"
      },
      "source": [
        "**Second Method for Image Comparison**\n"
      ]
    },
    {
      "cell_type": "code",
      "metadata": {
        "id": "yO4sGfm0htt3"
      },
      "source": [
        "#Second Method\n",
        "#opencv Method\n",
        "# import the necessary packages\n",
        "from skimage.metrics import structural_similarity as compare_ssim\n",
        "import argparse\n",
        "import imutils\n",
        "import cv2"
      ],
      "execution_count": null,
      "outputs": []
    },
    {
      "cell_type": "code",
      "metadata": {
        "id": "kHeA57pZa3vp"
      },
      "source": [
        "# load the two input images\n",
        "imageA = cv2.imread(r\"/content/1img.jpg\")\n",
        "imageB = cv2.imread(r\"/content/2img.jpg\")\n",
        "# convert the images to grayscale\n",
        "grayA = cv2.cvtColor(imageA, cv2.COLOR_BGR2GRAY)\n",
        "grayB = cv2.cvtColor(imageB, cv2.COLOR_BGR2GRAY)"
      ],
      "execution_count": null,
      "outputs": []
    },
    {
      "cell_type": "code",
      "metadata": {
        "id": "1dJHghhYGMHa"
      },
      "source": [
        "# compute the Structural Similarity Index (SSIM) between the two\n",
        "# images, ensuring that the difference image is returned\n",
        "(score, diff) = compare_ssim(grayA, grayB, full=True)\n",
        "diff = (diff * 255).astype(\"uint8\")\n",
        "print(\"SSIM: {}\".format(score))"
      ],
      "execution_count": null,
      "outputs": []
    },
    {
      "cell_type": "code",
      "metadata": {
        "id": "Kt1AQo9-GqlT"
      },
      "source": [
        "# threshold the difference image, followed by finding contours to\n",
        "# obtain the regions of the two input images that differ\n",
        "thresh = cv2.threshold(diff, 0, 255,\n",
        "\tcv2.THRESH_BINARY_INV | cv2.THRESH_OTSU)[1]\n",
        "cnts = cv2.findContours(thresh.copy(), cv2.RETR_EXTERNAL,\n",
        "\tcv2.CHAIN_APPROX_SIMPLE)\n",
        "cnts = imutils.grab_contours(cnts)"
      ],
      "execution_count": null,
      "outputs": []
    },
    {
      "cell_type": "code",
      "metadata": {
        "id": "lwAtehoPHQ3j"
      },
      "source": [
        "# loop over the contours\n",
        "for c in cnts:\n",
        "\t# compute the bounding box of the contour and then draw the\n",
        "\t# bounding box on both input images to represent where the two\n",
        "\t# images differ\n",
        "\t(x, y, w, h) = cv2.boundingRect(c)\n",
        "\tcv2.rectangle(imageA, (x, y), (x + w, y + h), (0, 0, 255), 2)\n",
        "\tcv2.rectangle(imageB, (x, y), (x + w, y + h), (0, 0, 255), 2)\n",
        "# show the output images\n",
        "cv2.imshow(\"Original\", imageA)\n",
        "cv2.imshow(\"Modified\", imageB)\n",
        "cv2.imshow(\"Diff\", diff)\n",
        "cv2.imshow(\"Thresh\", thresh)\n",
        "cv2.waitKey(0)"
      ],
      "execution_count": null,
      "outputs": []
    },
    {
      "cell_type": "markdown",
      "metadata": {
        "id": "HN_IB0vgakFn"
      },
      "source": [
        ""
      ]
    },
    {
      "cell_type": "code",
      "metadata": {
        "id": "q9NiUqJFHqIh"
      },
      "source": [
        "import math\n",
        "import functools\n",
        "h1 = Image.open(r\"/content/1img.jpg\").histogram()\n",
        "h2 = Image.open(r\"/content/2img.jpg\").histogram()\n",
        "\n",
        "rms = math.sqrt(reduce(operator.add,\n",
        "    map(lambda a,b: (a-b)**2, h1, h2))/len(h1))"
      ],
      "execution_count": null,
      "outputs": []
    },
    {
      "cell_type": "code",
      "metadata": {
        "id": "Qep4--wOYtTS"
      },
      "source": [
        "pip install functools"
      ],
      "execution_count": null,
      "outputs": []
    },
    {
      "cell_type": "code",
      "metadata": {
        "colab": {
          "base_uri": "https://localhost:8080/"
        },
        "id": "Gej7Ug_jSbse",
        "outputId": "14941c19-9cb0-49d0-e28c-38f937d4f4e8"
      },
      "source": [
        "pip install imagehash\n"
      ],
      "execution_count": null,
      "outputs": [
        {
          "output_type": "stream",
          "name": "stdout",
          "text": [
            "Collecting imagehash\n",
            "  Downloading ImageHash-4.2.1.tar.gz (812 kB)\n",
            "\u001b[?25l\r\u001b[K     |▍                               | 10 kB 29.9 MB/s eta 0:00:01\r\u001b[K     |▉                               | 20 kB 25.2 MB/s eta 0:00:01\r\u001b[K     |█▏                              | 30 kB 11.7 MB/s eta 0:00:01\r\u001b[K     |█▋                              | 40 kB 9.5 MB/s eta 0:00:01\r\u001b[K     |██                              | 51 kB 5.1 MB/s eta 0:00:01\r\u001b[K     |██▍                             | 61 kB 5.7 MB/s eta 0:00:01\r\u001b[K     |██▉                             | 71 kB 5.5 MB/s eta 0:00:01\r\u001b[K     |███▎                            | 81 kB 6.2 MB/s eta 0:00:01\r\u001b[K     |███▋                            | 92 kB 6.3 MB/s eta 0:00:01\r\u001b[K     |████                            | 102 kB 5.1 MB/s eta 0:00:01\r\u001b[K     |████▍                           | 112 kB 5.1 MB/s eta 0:00:01\r\u001b[K     |████▉                           | 122 kB 5.1 MB/s eta 0:00:01\r\u001b[K     |█████▎                          | 133 kB 5.1 MB/s eta 0:00:01\r\u001b[K     |█████▋                          | 143 kB 5.1 MB/s eta 0:00:01\r\u001b[K     |██████                          | 153 kB 5.1 MB/s eta 0:00:01\r\u001b[K     |██████▌                         | 163 kB 5.1 MB/s eta 0:00:01\r\u001b[K     |██████▉                         | 174 kB 5.1 MB/s eta 0:00:01\r\u001b[K     |███████▎                        | 184 kB 5.1 MB/s eta 0:00:01\r\u001b[K     |███████▋                        | 194 kB 5.1 MB/s eta 0:00:01\r\u001b[K     |████████                        | 204 kB 5.1 MB/s eta 0:00:01\r\u001b[K     |████████▌                       | 215 kB 5.1 MB/s eta 0:00:01\r\u001b[K     |████████▉                       | 225 kB 5.1 MB/s eta 0:00:01\r\u001b[K     |█████████▎                      | 235 kB 5.1 MB/s eta 0:00:01\r\u001b[K     |█████████▊                      | 245 kB 5.1 MB/s eta 0:00:01\r\u001b[K     |██████████                      | 256 kB 5.1 MB/s eta 0:00:01\r\u001b[K     |██████████▌                     | 266 kB 5.1 MB/s eta 0:00:01\r\u001b[K     |██████████▉                     | 276 kB 5.1 MB/s eta 0:00:01\r\u001b[K     |███████████▎                    | 286 kB 5.1 MB/s eta 0:00:01\r\u001b[K     |███████████▊                    | 296 kB 5.1 MB/s eta 0:00:01\r\u001b[K     |████████████                    | 307 kB 5.1 MB/s eta 0:00:01\r\u001b[K     |████████████▌                   | 317 kB 5.1 MB/s eta 0:00:01\r\u001b[K     |█████████████                   | 327 kB 5.1 MB/s eta 0:00:01\r\u001b[K     |█████████████▎                  | 337 kB 5.1 MB/s eta 0:00:01\r\u001b[K     |█████████████▊                  | 348 kB 5.1 MB/s eta 0:00:01\r\u001b[K     |██████████████▏                 | 358 kB 5.1 MB/s eta 0:00:01\r\u001b[K     |██████████████▌                 | 368 kB 5.1 MB/s eta 0:00:01\r\u001b[K     |███████████████                 | 378 kB 5.1 MB/s eta 0:00:01\r\u001b[K     |███████████████▎                | 389 kB 5.1 MB/s eta 0:00:01\r\u001b[K     |███████████████▊                | 399 kB 5.1 MB/s eta 0:00:01\r\u001b[K     |████████████████▏               | 409 kB 5.1 MB/s eta 0:00:01\r\u001b[K     |████████████████▌               | 419 kB 5.1 MB/s eta 0:00:01\r\u001b[K     |█████████████████               | 430 kB 5.1 MB/s eta 0:00:01\r\u001b[K     |█████████████████▍              | 440 kB 5.1 MB/s eta 0:00:01\r\u001b[K     |█████████████████▊              | 450 kB 5.1 MB/s eta 0:00:01\r\u001b[K     |██████████████████▏             | 460 kB 5.1 MB/s eta 0:00:01\r\u001b[K     |██████████████████▌             | 471 kB 5.1 MB/s eta 0:00:01\r\u001b[K     |███████████████████             | 481 kB 5.1 MB/s eta 0:00:01\r\u001b[K     |███████████████████▍            | 491 kB 5.1 MB/s eta 0:00:01\r\u001b[K     |███████████████████▊            | 501 kB 5.1 MB/s eta 0:00:01\r\u001b[K     |████████████████████▏           | 512 kB 5.1 MB/s eta 0:00:01\r\u001b[K     |████████████████████▋           | 522 kB 5.1 MB/s eta 0:00:01\r\u001b[K     |█████████████████████           | 532 kB 5.1 MB/s eta 0:00:01\r\u001b[K     |█████████████████████▍          | 542 kB 5.1 MB/s eta 0:00:01\r\u001b[K     |█████████████████████▊          | 552 kB 5.1 MB/s eta 0:00:01\r\u001b[K     |██████████████████████▏         | 563 kB 5.1 MB/s eta 0:00:01\r\u001b[K     |██████████████████████▋         | 573 kB 5.1 MB/s eta 0:00:01\r\u001b[K     |███████████████████████         | 583 kB 5.1 MB/s eta 0:00:01\r\u001b[K     |███████████████████████▍        | 593 kB 5.1 MB/s eta 0:00:01\r\u001b[K     |███████████████████████▉        | 604 kB 5.1 MB/s eta 0:00:01\r\u001b[K     |████████████████████████▏       | 614 kB 5.1 MB/s eta 0:00:01\r\u001b[K     |████████████████████████▋       | 624 kB 5.1 MB/s eta 0:00:01\r\u001b[K     |█████████████████████████       | 634 kB 5.1 MB/s eta 0:00:01\r\u001b[K     |█████████████████████████▍      | 645 kB 5.1 MB/s eta 0:00:01\r\u001b[K     |█████████████████████████▉      | 655 kB 5.1 MB/s eta 0:00:01\r\u001b[K     |██████████████████████████▏     | 665 kB 5.1 MB/s eta 0:00:01\r\u001b[K     |██████████████████████████▋     | 675 kB 5.1 MB/s eta 0:00:01\r\u001b[K     |███████████████████████████     | 686 kB 5.1 MB/s eta 0:00:01\r\u001b[K     |███████████████████████████▍    | 696 kB 5.1 MB/s eta 0:00:01\r\u001b[K     |███████████████████████████▉    | 706 kB 5.1 MB/s eta 0:00:01\r\u001b[K     |████████████████████████████▎   | 716 kB 5.1 MB/s eta 0:00:01\r\u001b[K     |████████████████████████████▋   | 727 kB 5.1 MB/s eta 0:00:01\r\u001b[K     |█████████████████████████████   | 737 kB 5.1 MB/s eta 0:00:01\r\u001b[K     |█████████████████████████████▍  | 747 kB 5.1 MB/s eta 0:00:01\r\u001b[K     |█████████████████████████████▉  | 757 kB 5.1 MB/s eta 0:00:01\r\u001b[K     |██████████████████████████████▎ | 768 kB 5.1 MB/s eta 0:00:01\r\u001b[K     |██████████████████████████████▋ | 778 kB 5.1 MB/s eta 0:00:01\r\u001b[K     |███████████████████████████████ | 788 kB 5.1 MB/s eta 0:00:01\r\u001b[K     |███████████████████████████████▌| 798 kB 5.1 MB/s eta 0:00:01\r\u001b[K     |███████████████████████████████▉| 808 kB 5.1 MB/s eta 0:00:01\r\u001b[K     |████████████████████████████████| 812 kB 5.1 MB/s \n",
            "\u001b[?25hRequirement already satisfied: six in /usr/local/lib/python3.7/dist-packages (from imagehash) (1.15.0)\n",
            "Requirement already satisfied: numpy in /usr/local/lib/python3.7/dist-packages (from imagehash) (1.19.5)\n",
            "Requirement already satisfied: scipy in /usr/local/lib/python3.7/dist-packages (from imagehash) (1.4.1)\n",
            "Requirement already satisfied: pillow in /usr/local/lib/python3.7/dist-packages (from imagehash) (7.1.2)\n",
            "Requirement already satisfied: PyWavelets in /usr/local/lib/python3.7/dist-packages (from imagehash) (1.1.1)\n",
            "Building wheels for collected packages: imagehash\n",
            "  Building wheel for imagehash (setup.py) ... \u001b[?25l\u001b[?25hdone\n",
            "  Created wheel for imagehash: filename=ImageHash-4.2.1-py2.py3-none-any.whl size=295207 sha256=8e8675e26f921ce564766e8e9be02ca79f639023bfbc4a4774f799f10416dce1\n",
            "  Stored in directory: /root/.cache/pip/wheels/4c/d5/59/5e3e297533ddb09407769762985d134135064c6831e29a914e\n",
            "Successfully built imagehash\n",
            "Installing collected packages: imagehash\n",
            "Successfully installed imagehash-4.2.1\n"
          ]
        }
      ]
    },
    {
      "cell_type": "markdown",
      "metadata": {
        "id": "UoyviNEsavFG"
      },
      "source": [
        "**Code to Get Similarity Index Between Two Images**\n"
      ]
    },
    {
      "cell_type": "code",
      "metadata": {
        "colab": {
          "base_uri": "https://localhost:8080/"
        },
        "id": "fPrkGxhGSrKd",
        "outputId": "cf742a97-2fe2-4ff1-8d9b-0170592aa17c"
      },
      "source": [
        "#This will Give You the similarity Score betweeen the two images \"Third Method\"\n",
        "\n",
        "from PIL import Image\n",
        "import imagehash\n",
        "\n",
        "hash = imagehash.average_hash(Image.open('/content/1img.jpg'))\n",
        "otherhash = imagehash.average_hash(Image.open('/content/2img.jpg'))\n",
        "\n",
        "print(hash - otherhash)"
      ],
      "execution_count": null,
      "outputs": [
        {
          "output_type": "stream",
          "name": "stdout",
          "text": [
            "1\n"
          ]
        }
      ]
    },
    {
      "cell_type": "code",
      "metadata": {
        "id": "BzXXBleFV2f1"
      },
      "source": [
        ""
      ],
      "execution_count": null,
      "outputs": []
    },
    {
      "cell_type": "markdown",
      "metadata": {
        "id": "vqzG6j41ZZRT"
      },
      "source": [
        "**Third Method For Image Comparison**\n",
        "\n"
      ]
    },
    {
      "cell_type": "code",
      "metadata": {
        "id": "9KhmXYbnUKM7"
      },
      "source": [
        ""
      ],
      "execution_count": null,
      "outputs": []
    },
    {
      "cell_type": "code",
      "metadata": {
        "id": "FLNcIcqbUKh-"
      },
      "source": [
        "\n",
        "from Tkinter import *\n",
        "import tkMessageBox\n",
        "import Tkinter\n",
        "from itertools import izip\n",
        "from PIL import Image,ImageTk\n",
        "import urllib, cStringIO\n",
        "import win32console\n",
        "import win32gui\n",
        "\n",
        "win=win32console.GetConsoleWindow()       # For closing command window \n",
        "win32gui.ShowWindow(win,0)\n",
        "\n",
        "\n",
        "def entrybox1(event):                     # Pasting url from clipboard to the first entry box\n",
        "    clipboard = root.clipboard_get()\n",
        "    if clipboard.startswith('http'):\n",
        "        ent1.delete(0, 'end')\n",
        "        ent1.insert(0,clipboard)\n",
        "\n",
        "def entrybox2(event):                     # Pasting url from clipboard to the second entry box\n",
        "    clipboard = root.clipboard_get()\n",
        "    if clipboard.startswith('http'):\n",
        "        ent2.delete(0, 'end')\n",
        "        ent2.insert(0,clipboard)\n",
        "\n",
        "def compare():                          #comparing two images   \n",
        "    feedback.set(\"Loading. Please wait untill images are being fetched and compared.\")        # printing loading message\n",
        "    label3.update_idletasks()\n",
        "    try:\n",
        "        comment = StringVar()\n",
        "        img1 = image1.get()\n",
        "        img2 = image2.get()\n",
        "        \n",
        "        file1 = cStringIO.StringIO(urllib.urlopen(img1).read())                         # fetching images from url\n",
        "        file2 = cStringIO.StringIO(urllib.urlopen(img2).read())\n",
        "        \n",
        "        i1 = Image.open(file1)\n",
        "        i2 = Image.open(file2)\n",
        "        i1 = i1.resize((250, 250), Image.ANTIALIAS)\n",
        "        i2 = i2.resize((250, 250), Image.ANTIALIAS) \n",
        "        \n",
        "        window = Toplevel(root)                                                         # creating new window for printing result\n",
        "        window.geometry('600x350+305+220')\n",
        "        window.wm_title(\"Result\")\n",
        "        \n",
        "        printimage1 = i1.resize((200, 200), Image.ANTIALIAS)                            # printing image1 on new window\n",
        "        imga = ImageTk.PhotoImage(printimage1)\n",
        "        panel = Label(window, image = imga)\n",
        "        panel.pack()\n",
        "\n",
        "        comnt = Label(window,text=\"\",textvariable = comment,font=(\"Helvetica\", 12))\n",
        "        comnt.pack()\n",
        "\n",
        "        printimage2 = i2.resize((200, 200), Image.ANTIALIAS)                            # printing image2 on new window\n",
        "        imgb = ImageTk.PhotoImage(printimage2)\n",
        "        panel1 = Label(window, image = imgb)\n",
        "        panel1.pack()\n",
        "        \n",
        "        pairs = izip(i1.getdata(), i2.getdata())                                        # Calculating simillarity\n",
        "        if len(i1.getbands()) == 1:\n",
        "            # for gray-scale jpegs\n",
        "            dif = sum(abs(p1-p2) for p1,p2 in pairs)\n",
        "        else:\n",
        "            dif = sum(abs(c1-c2) for p1,p2 in pairs for c1,c2 in zip(p1,p2))\n",
        "            \n",
        "        ncomponents = i1.size[0] * i1.size[1] * 3\n",
        "        percent =  int(100 - ((dif / 255.0 * 100) / ncomponents))\n",
        "        value = \"Simillarity rank (/100) : \" + str(percent)\n",
        "        \n",
        "        label4 = Label(window,text=value,font=(\"Helvetica\", 16))                        # Printing similarity rank\n",
        "        label4.pack()\n",
        "\n",
        "        label5 = Label(window,text=\"VS\",font=(\"Helvetica\", 14))                        # Printing similarity rank\n",
        "        label5.pack()\n",
        "\n",
        "        if percent >= 85 and percent <= 95:\n",
        "            comment.set(\"Almost simillar\")\n",
        "        elif percent > 95:\n",
        "            comment.set(\"Simillar\")\n",
        "        elif percent <= 5:\n",
        "            comment.set(\"Disimillar\")\n",
        "        elif percent >= 50 and percent <= 85:\n",
        "            comment.set(\"Partially simillar\")\n",
        "        elif percent >5 and percent < 50:\n",
        "            comment.set(\"Not so simillar\")\n",
        "        feedback.set(\"\")                                                                # deleting loading message\n",
        "        label3.update_idletasks()\n",
        "        \n",
        "        quitButton = Button(window, text = \"Quit\",font=(12), command = window.destroy)\n",
        "        quitButton.pack()\n",
        "        \n",
        "        panel.place(x=60,y=10)                                                          # placing widgets in new window\n",
        "        panel1.place(x=350,y=10)\n",
        "        label4.place(x=200,y=230)\n",
        "        label5.place(x=290,y=105)\n",
        "        comnt.place(x=255,y=270)\n",
        "        quitButton.place(x=300,y=300)\n",
        "        window.mainloop()\n",
        "    except:\n",
        "        tkMessageBox.showerror( \"Error \", \"There is some error. Please try again. \")    #printing error ,essage\n",
        "        feedback.set(\"\")\n",
        "        label3.update_idletasks()\n",
        "      \n",
        "\n",
        "                 #the UI box configurations\n",
        "    \n",
        "        \n",
        "root = Tk()                            \n",
        "root.wm_title(\"Compare Images\")\n",
        "root.geometry('600x200+220+180')\n",
        "image1 = StringVar()\n",
        "image2 = StringVar()\n",
        "feedback = StringVar() \n",
        "\n",
        "label1=Label(text = \"Image 1 Url : \")\n",
        "label1.pack()\n",
        "\n",
        "ent1 = Entry(bd=5,textvariable = image1, width=70)      #entry box 1\n",
        "ent1.pack()\n",
        "ent1.bind('<Button-1>', entrybox1)                      #when clicked on this entry, entrybox1() is executed\n",
        "\n",
        "label2=Label(text = \"Image 2 Url : \")\n",
        "label2.pack()\n",
        "\n",
        "ent2 = Entry(bd=5,textvariable = image2, width=70)      #entry box 2\n",
        "ent2.pack()\n",
        "ent2.bind('<Button-1>', entrybox2)                      #when clicked on this entry, entrybox2() is executed\n",
        "\n",
        "b1 = Button(text = \"Compare\",command = compare)\n",
        "b1.pack()\n",
        "quitButn = Button(root, text = \"Quit\", command = root.destroy)\n",
        "quitButn.pack()\n",
        "\n",
        "           \n",
        "label3 = Label(text=\"\",textvariable=feedback)\n",
        "label3.pack()\n",
        "\n",
        "\n",
        "b1.place(x = 250,y=100)             #placing widgets in positions\n",
        "quitButn.place(x=330,y=100)\n",
        "label1.place(x = 50,y=10)\n",
        "label2.place(x = 50,y=50)\n",
        "ent1.place(x=150,y=10)\n",
        "ent2.place(x=150,y=50)\n",
        "label3.place(x=150,y=150)\n",
        "root.mainloop()                     #looping      "
      ],
      "execution_count": null,
      "outputs": []
    },
    {
      "cell_type": "code",
      "metadata": {
        "id": "amR5TO3_Wxpf"
      },
      "source": [
        ""
      ],
      "execution_count": null,
      "outputs": []
    },
    {
      "cell_type": "code",
      "metadata": {
        "id": "RCmwtVOZWyIp"
      },
      "source": [
        ""
      ],
      "execution_count": null,
      "outputs": []
    },
    {
      "cell_type": "code",
      "metadata": {
        "id": "t-z9bBkhWyMf"
      },
      "source": [
        ""
      ],
      "execution_count": null,
      "outputs": []
    },
    {
      "cell_type": "code",
      "metadata": {
        "id": "UKFYy3YCWyQY"
      },
      "source": [
        ""
      ],
      "execution_count": null,
      "outputs": []
    },
    {
      "cell_type": "code",
      "metadata": {
        "id": "b5--ajjcWyT3"
      },
      "source": [
        ""
      ],
      "execution_count": null,
      "outputs": []
    },
    {
      "cell_type": "code",
      "metadata": {
        "colab": {
          "base_uri": "https://localhost:8080/"
        },
        "id": "zMY01k9KVVUR",
        "outputId": "2e24f280-d5fc-4ec6-d1ca-9577f2a46025"
      },
      "source": [
        "pip install scikit-image"
      ],
      "execution_count": null,
      "outputs": [
        {
          "output_type": "stream",
          "name": "stdout",
          "text": [
            "Requirement already satisfied: scikit-image in /usr/local/lib/python3.7/dist-packages (0.16.2)\n",
            "Requirement already satisfied: scipy>=0.19.0 in /usr/local/lib/python3.7/dist-packages (from scikit-image) (1.4.1)\n",
            "Requirement already satisfied: PyWavelets>=0.4.0 in /usr/local/lib/python3.7/dist-packages (from scikit-image) (1.1.1)\n",
            "Requirement already satisfied: pillow>=4.3.0 in /usr/local/lib/python3.7/dist-packages (from scikit-image) (7.1.2)\n",
            "Requirement already satisfied: matplotlib!=3.0.0,>=2.0.0 in /usr/local/lib/python3.7/dist-packages (from scikit-image) (3.2.2)\n",
            "Requirement already satisfied: networkx>=2.0 in /usr/local/lib/python3.7/dist-packages (from scikit-image) (2.6.3)\n",
            "Requirement already satisfied: imageio>=2.3.0 in /usr/local/lib/python3.7/dist-packages (from scikit-image) (2.4.1)\n",
            "Requirement already satisfied: numpy in /usr/local/lib/python3.7/dist-packages (from imageio>=2.3.0->scikit-image) (1.19.5)\n",
            "Requirement already satisfied: pyparsing!=2.0.4,!=2.1.2,!=2.1.6,>=2.0.1 in /usr/local/lib/python3.7/dist-packages (from matplotlib!=3.0.0,>=2.0.0->scikit-image) (2.4.7)\n",
            "Requirement already satisfied: python-dateutil>=2.1 in /usr/local/lib/python3.7/dist-packages (from matplotlib!=3.0.0,>=2.0.0->scikit-image) (2.8.2)\n",
            "Requirement already satisfied: kiwisolver>=1.0.1 in /usr/local/lib/python3.7/dist-packages (from matplotlib!=3.0.0,>=2.0.0->scikit-image) (1.3.2)\n",
            "Requirement already satisfied: cycler>=0.10 in /usr/local/lib/python3.7/dist-packages (from matplotlib!=3.0.0,>=2.0.0->scikit-image) (0.10.0)\n",
            "Requirement already satisfied: six in /usr/local/lib/python3.7/dist-packages (from cycler>=0.10->matplotlib!=3.0.0,>=2.0.0->scikit-image) (1.15.0)\n"
          ]
        }
      ]
    },
    {
      "cell_type": "code",
      "metadata": {
        "id": "2QLYcCReZATJ"
      },
      "source": [
        ""
      ],
      "execution_count": null,
      "outputs": []
    },
    {
      "cell_type": "markdown",
      "metadata": {
        "id": "DPXS0wrKZB83"
      },
      "source": [
        "**Fourth Method for image Comparison**\n",
        " \n"
      ]
    },
    {
      "cell_type": "code",
      "metadata": {
        "id": "uJO41uihZAiH"
      },
      "source": [
        "from skimage.measure import compare_ssim\n",
        "import cv2\n",
        "import csv\n",
        "import time\n",
        "\n",
        "\n",
        "def compare_images(image1, image2):\n",
        "    start_time = time.time()\n",
        "    similar = 1- compare_ssim(image1, image2) ## Structural Similiarity Index has 1 signifying identical images, not 0\n",
        "    elapsed = time.time() - start_time\n",
        "\n",
        "    return similar, elapsed\n",
        "    \n",
        "\n",
        "## appending to the results.csv file with the paths, similiarity index, and time elapsed for the comparison\n",
        "def output_file(pathA, pathB, similar, elapsed):\n",
        "    with open('results.csv', 'a') as csvfile:\n",
        "        writer = csv.writer(csvfile, delimiter=',',\n",
        "                            quotechar='|', quoting=csv.QUOTE_MINIMAL)\n",
        "        writer.writerow([pathA, pathB, similar, elapsed])\n",
        "\n",
        "\n",
        "## Necessary in order for SSIM to function. Both images must have the same resolution\n",
        "def scale_images(image1, image2, width=640, height=480):\n",
        "    \n",
        "    ## Setting constant dimensions, with arbitrary default values of 640x480\n",
        "    dim = (width, height)\n",
        "    \n",
        "    image1 = cv2.resize(image1, dim)\n",
        "    image2 = cv2.resize(image2, dim)\n",
        "\n",
        "    return image1, image2\n",
        "\n",
        "\n",
        "## Logic begins here! \n",
        "\n",
        "## read in csv containing all images that are being compared\n",
        "with open('image-comparison.csv') as csvfile:\n",
        "\n",
        "## creating new file and setting the headers\n",
        "    with open('results.csv', 'w') as newcsv:\n",
        "        writer = csv.writer(newcsv, delimiter=',',\n",
        "                            quotechar='|', quoting=csv.QUOTE_MINIMAL)\n",
        "        writer.writerow(['image1', 'image2', 'similar', 'elapsed'])\n",
        "\n",
        "## skipping the first line because they are headers\n",
        "    firstLine = True\n",
        "    readCSV = csv.reader(csvfile, delimiter=',')\n",
        "    for row in readCSV:\n",
        "        if firstLine:\n",
        "            firstLine = False\n",
        "            continue\n",
        "\n",
        "        path1, path2 = row[0], row[1]\n",
        "\n",
        "        image1, image2 = scale_images(cv2.imread(row[0]), cv2.imread(row[1]))\n",
        "        \n",
        "        resized_image1 = cv2.cvtColor(image1, cv2.COLOR_BGR2GRAY)\n",
        "        resized_image2 = cv2.cvtColor(image2, cv2.COLOR_BGR2GRAY)\n",
        "\n",
        "        similar, elapsed = compare_images(resized_image1, resized_image2)\n",
        "        \n",
        "        output_file(path1, path2, similar, elapsed)\n"
      ],
      "execution_count": null,
      "outputs": []
    }
  ]
}